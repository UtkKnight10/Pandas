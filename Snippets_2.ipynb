{
 "cells": [
  {
   "cell_type": "code",
   "execution_count": 2,
   "id": "53ff9acd-8947-4592-9e13-a3579d4b3f36",
   "metadata": {},
   "outputs": [],
   "source": [
    "people = {\n",
    "    \"first\": [\"Corey\", \"Jane\", 'John'],\n",
    "    \"last\": [\"Schafer\", \"Doe\", \"Doe\"],\n",
    "    \"email\": [\"CoreyMSchafer@gmail.com\", \"JaneDoe@gmail.com\", \"JohnDoe@gmail.com\"]\n",
    "}"
   ]
  },
  {
   "cell_type": "code",
   "execution_count": 3,
   "id": "72eee34f-1ab2-4256-a03f-4b13378c2396",
   "metadata": {},
   "outputs": [],
   "source": [
    "import pandas as pd"
   ]
  },
  {
   "cell_type": "code",
   "execution_count": 4,
   "id": "8ad6d1cf-c599-4ab3-8aa8-f59f2132c541",
   "metadata": {},
   "outputs": [],
   "source": [
    "df = pd.DataFrame(people)"
   ]
  },
  {
   "cell_type": "markdown",
   "id": "45a7134e-92b0-4ede-861c-38abcd7a6f84",
   "metadata": {},
   "source": [
    "### Data Frame with default index\n",
    "* Here we have default index for the data frame that is **0, 1, 2 .....**\n",
    "* These are nothing but unique identifier for each row"
   ]
  },
  {
   "cell_type": "code",
   "execution_count": 5,
   "id": "f2e01e95-4f62-44eb-b372-0747addbe5dc",
   "metadata": {},
   "outputs": [
    {
     "data": {
      "text/html": [
       "<div>\n",
       "<style scoped>\n",
       "    .dataframe tbody tr th:only-of-type {\n",
       "        vertical-align: middle;\n",
       "    }\n",
       "\n",
       "    .dataframe tbody tr th {\n",
       "        vertical-align: top;\n",
       "    }\n",
       "\n",
       "    .dataframe thead th {\n",
       "        text-align: right;\n",
       "    }\n",
       "</style>\n",
       "<table border=\"1\" class=\"dataframe\">\n",
       "  <thead>\n",
       "    <tr style=\"text-align: right;\">\n",
       "      <th></th>\n",
       "      <th>first</th>\n",
       "      <th>last</th>\n",
       "      <th>email</th>\n",
       "    </tr>\n",
       "  </thead>\n",
       "  <tbody>\n",
       "    <tr>\n",
       "      <th>0</th>\n",
       "      <td>Corey</td>\n",
       "      <td>Schafer</td>\n",
       "      <td>CoreyMSchafer@gmail.com</td>\n",
       "    </tr>\n",
       "    <tr>\n",
       "      <th>1</th>\n",
       "      <td>Jane</td>\n",
       "      <td>Doe</td>\n",
       "      <td>JaneDoe@gmail.com</td>\n",
       "    </tr>\n",
       "    <tr>\n",
       "      <th>2</th>\n",
       "      <td>John</td>\n",
       "      <td>Doe</td>\n",
       "      <td>JohnDoe@gmail.com</td>\n",
       "    </tr>\n",
       "  </tbody>\n",
       "</table>\n",
       "</div>"
      ],
      "text/plain": [
       "   first     last                    email\n",
       "0  Corey  Schafer  CoreyMSchafer@gmail.com\n",
       "1   Jane      Doe        JaneDoe@gmail.com\n",
       "2   John      Doe        JohnDoe@gmail.com"
      ]
     },
     "execution_count": 5,
     "metadata": {},
     "output_type": "execute_result"
    }
   ],
   "source": [
    "df"
   ]
  },
  {
   "cell_type": "markdown",
   "id": "24e0aa6d-37c0-4d67-a61d-2247c279a780",
   "metadata": {},
   "source": [
    "* But sometimes it makes sense to have a different identifier for the rows that is basically label for that row\n",
    "* Pandas doesnt force the indexs to be unique but most of the times it will be unique"
   ]
  },
  {
   "cell_type": "code",
   "execution_count": 6,
   "id": "334d4d75-73e0-48a7-b5e4-381d14672bdf",
   "metadata": {},
   "outputs": [
    {
     "data": {
      "text/plain": [
       "0    CoreyMSchafer@gmail.com\n",
       "1          JaneDoe@gmail.com\n",
       "2          JohnDoe@gmail.com\n",
       "Name: email, dtype: object"
      ]
     },
     "execution_count": 6,
     "metadata": {},
     "output_type": "execute_result"
    }
   ],
   "source": [
    "df['email']"
   ]
  },
  {
   "cell_type": "markdown",
   "id": "413ddaf3-6c69-4067-8a68-2486e21db058",
   "metadata": {},
   "source": [
    "### Data Frame with custom index\n",
    "* We can do that by using **set_index('column_name')** method\n",
    "* Lets have emails as the indexs\n",
    "* So we will do ==> df.set_index('email')"
   ]
  },
  {
   "cell_type": "code",
   "execution_count": 7,
   "id": "9abaeb0a-6790-4fae-90ad-541c31b2cb25",
   "metadata": {},
   "outputs": [
    {
     "data": {
      "text/html": [
       "<div>\n",
       "<style scoped>\n",
       "    .dataframe tbody tr th:only-of-type {\n",
       "        vertical-align: middle;\n",
       "    }\n",
       "\n",
       "    .dataframe tbody tr th {\n",
       "        vertical-align: top;\n",
       "    }\n",
       "\n",
       "    .dataframe thead th {\n",
       "        text-align: right;\n",
       "    }\n",
       "</style>\n",
       "<table border=\"1\" class=\"dataframe\">\n",
       "  <thead>\n",
       "    <tr style=\"text-align: right;\">\n",
       "      <th></th>\n",
       "      <th>first</th>\n",
       "      <th>last</th>\n",
       "    </tr>\n",
       "    <tr>\n",
       "      <th>email</th>\n",
       "      <th></th>\n",
       "      <th></th>\n",
       "    </tr>\n",
       "  </thead>\n",
       "  <tbody>\n",
       "    <tr>\n",
       "      <th>CoreyMSchafer@gmail.com</th>\n",
       "      <td>Corey</td>\n",
       "      <td>Schafer</td>\n",
       "    </tr>\n",
       "    <tr>\n",
       "      <th>JaneDoe@gmail.com</th>\n",
       "      <td>Jane</td>\n",
       "      <td>Doe</td>\n",
       "    </tr>\n",
       "    <tr>\n",
       "      <th>JohnDoe@gmail.com</th>\n",
       "      <td>John</td>\n",
       "      <td>Doe</td>\n",
       "    </tr>\n",
       "  </tbody>\n",
       "</table>\n",
       "</div>"
      ],
      "text/plain": [
       "                         first     last\n",
       "email                                  \n",
       "CoreyMSchafer@gmail.com  Corey  Schafer\n",
       "JaneDoe@gmail.com         Jane      Doe\n",
       "JohnDoe@gmail.com         John      Doe"
      ]
     },
     "execution_count": 7,
     "metadata": {},
     "output_type": "execute_result"
    }
   ],
   "source": [
    "df.set_index('email')"
   ]
  },
  {
   "cell_type": "markdown",
   "id": "7be214bf-dd06-4249-abd1-1b0cb019e516",
   "metadata": {},
   "source": [
    "* Now we can see email column is set as index but it looks like regular column because it still has same name as our column when we set it\n",
    "* We can "
   ]
  },
  {
   "cell_type": "code",
   "execution_count": 8,
   "id": "ba0c7ed5-3f07-402e-9db2-97b9dc1de03b",
   "metadata": {},
   "outputs": [
    {
     "data": {
      "text/html": [
       "<div>\n",
       "<style scoped>\n",
       "    .dataframe tbody tr th:only-of-type {\n",
       "        vertical-align: middle;\n",
       "    }\n",
       "\n",
       "    .dataframe tbody tr th {\n",
       "        vertical-align: top;\n",
       "    }\n",
       "\n",
       "    .dataframe thead th {\n",
       "        text-align: right;\n",
       "    }\n",
       "</style>\n",
       "<table border=\"1\" class=\"dataframe\">\n",
       "  <thead>\n",
       "    <tr style=\"text-align: right;\">\n",
       "      <th></th>\n",
       "      <th>first</th>\n",
       "      <th>last</th>\n",
       "      <th>email</th>\n",
       "    </tr>\n",
       "  </thead>\n",
       "  <tbody>\n",
       "    <tr>\n",
       "      <th>0</th>\n",
       "      <td>Corey</td>\n",
       "      <td>Schafer</td>\n",
       "      <td>CoreyMSchafer@gmail.com</td>\n",
       "    </tr>\n",
       "    <tr>\n",
       "      <th>1</th>\n",
       "      <td>Jane</td>\n",
       "      <td>Doe</td>\n",
       "      <td>JaneDoe@gmail.com</td>\n",
       "    </tr>\n",
       "    <tr>\n",
       "      <th>2</th>\n",
       "      <td>John</td>\n",
       "      <td>Doe</td>\n",
       "      <td>JohnDoe@gmail.com</td>\n",
       "    </tr>\n",
       "  </tbody>\n",
       "</table>\n",
       "</div>"
      ],
      "text/plain": [
       "   first     last                    email\n",
       "0  Corey  Schafer  CoreyMSchafer@gmail.com\n",
       "1   Jane      Doe        JaneDoe@gmail.com\n",
       "2   John      Doe        JohnDoe@gmail.com"
      ]
     },
     "execution_count": 8,
     "metadata": {},
     "output_type": "execute_result"
    }
   ],
   "source": [
    "df"
   ]
  },
  {
   "cell_type": "markdown",
   "id": "6aa8bb78-53db-4281-8867-ed7b1668e555",
   "metadata": {},
   "source": [
    "* Here we see the data frame didnt actually changed it still has the default index.\n",
    "* Hence to change the index we do **df.set_index('email', inplace=True)**"
   ]
  },
  {
   "cell_type": "code",
   "execution_count": 10,
   "id": "2d6ff3af-8fd9-4725-bf5f-542f56e7d433",
   "metadata": {},
   "outputs": [],
   "source": [
    "df.set_index('email', inplace=True)"
   ]
  },
  {
   "cell_type": "code",
   "execution_count": 11,
   "id": "0376582f-4994-44cf-912f-d6ea9d8569f3",
   "metadata": {},
   "outputs": [
    {
     "data": {
      "text/html": [
       "<div>\n",
       "<style scoped>\n",
       "    .dataframe tbody tr th:only-of-type {\n",
       "        vertical-align: middle;\n",
       "    }\n",
       "\n",
       "    .dataframe tbody tr th {\n",
       "        vertical-align: top;\n",
       "    }\n",
       "\n",
       "    .dataframe thead th {\n",
       "        text-align: right;\n",
       "    }\n",
       "</style>\n",
       "<table border=\"1\" class=\"dataframe\">\n",
       "  <thead>\n",
       "    <tr style=\"text-align: right;\">\n",
       "      <th></th>\n",
       "      <th>first</th>\n",
       "      <th>last</th>\n",
       "    </tr>\n",
       "    <tr>\n",
       "      <th>email</th>\n",
       "      <th></th>\n",
       "      <th></th>\n",
       "    </tr>\n",
       "  </thead>\n",
       "  <tbody>\n",
       "    <tr>\n",
       "      <th>CoreyMSchafer@gmail.com</th>\n",
       "      <td>Corey</td>\n",
       "      <td>Schafer</td>\n",
       "    </tr>\n",
       "    <tr>\n",
       "      <th>JaneDoe@gmail.com</th>\n",
       "      <td>Jane</td>\n",
       "      <td>Doe</td>\n",
       "    </tr>\n",
       "    <tr>\n",
       "      <th>JohnDoe@gmail.com</th>\n",
       "      <td>John</td>\n",
       "      <td>Doe</td>\n",
       "    </tr>\n",
       "  </tbody>\n",
       "</table>\n",
       "</div>"
      ],
      "text/plain": [
       "                         first     last\n",
       "email                                  \n",
       "CoreyMSchafer@gmail.com  Corey  Schafer\n",
       "JaneDoe@gmail.com         Jane      Doe\n",
       "JohnDoe@gmail.com         John      Doe"
      ]
     },
     "execution_count": 11,
     "metadata": {},
     "output_type": "execute_result"
    }
   ],
   "source": [
    "df"
   ]
  },
  {
   "cell_type": "code",
   "execution_count": 12,
   "id": "c92049f2-930d-4d4a-b429-c955d18d1ced",
   "metadata": {},
   "outputs": [
    {
     "data": {
      "text/plain": [
       "Index(['CoreyMSchafer@gmail.com', 'JaneDoe@gmail.com', 'JohnDoe@gmail.com'], dtype='object', name='email')"
      ]
     },
     "execution_count": 12,
     "metadata": {},
     "output_type": "execute_result"
    }
   ],
   "source": [
    "df.index"
   ]
  },
  {
   "cell_type": "markdown",
   "id": "c994dd09-23b1-426a-941e-a5622180fef4",
   "metadata": {},
   "source": [
    "### Why custom indexs are important/useful?\n",
    "* **'email'** above provides us a nice unique identifier for the rows\n",
    "* And when using **.loc** to search our data frame by labels these indexes become the labels for these rows\n",
    "* Now as the indexes had been set to the email, we dont have the default integer indexes\n",
    "* So df.loc[0] gives error ==> **TypeError**"
   ]
  },
  {
   "cell_type": "code",
   "execution_count": 13,
   "id": "5a52d9f7-5ca5-472b-b953-9dc0d86b22d7",
   "metadata": {},
   "outputs": [
    {
     "data": {
      "text/plain": [
       "first      Corey\n",
       "last     Schafer\n",
       "Name: CoreyMSchafer@gmail.com, dtype: object"
      ]
     },
     "execution_count": 13,
     "metadata": {},
     "output_type": "execute_result"
    }
   ],
   "source": [
    "df.loc['CoreyMSchafer@gmail.com']"
   ]
  },
  {
   "cell_type": "code",
   "execution_count": 14,
   "id": "0d0a4e2a-836a-49aa-88ab-3d784646ad84",
   "metadata": {},
   "outputs": [
    {
     "data": {
      "text/plain": [
       "'Schafer'"
      ]
     },
     "execution_count": 14,
     "metadata": {},
     "output_type": "execute_result"
    }
   ],
   "source": [
    "df.loc['CoreyMSchafer@gmail.com', 'last']"
   ]
  },
  {
   "cell_type": "code",
   "execution_count": 16,
   "id": "a04c50ee-d701-41ed-98ce-b28859340137",
   "metadata": {},
   "outputs": [
    {
     "data": {
      "text/plain": [
       "first      Corey\n",
       "last     Schafer\n",
       "Name: CoreyMSchafer@gmail.com, dtype: object"
      ]
     },
     "execution_count": 16,
     "metadata": {},
     "output_type": "execute_result"
    }
   ],
   "source": [
    "df.iloc[0]"
   ]
  },
  {
   "cell_type": "markdown",
   "id": "f5ec2427-ad6d-42a6-b46a-ffd39fcbf434",
   "metadata": {},
   "source": [
    "### Reseting the indexes \n",
    "* We can reset the indexes by using ==> **df.reset_index(inplace=True)**"
   ]
  },
  {
   "cell_type": "code",
   "execution_count": 17,
   "id": "564686ce-64b7-4f00-a34b-fc180aec276f",
   "metadata": {},
   "outputs": [
    {
     "data": {
      "text/html": [
       "<div>\n",
       "<style scoped>\n",
       "    .dataframe tbody tr th:only-of-type {\n",
       "        vertical-align: middle;\n",
       "    }\n",
       "\n",
       "    .dataframe tbody tr th {\n",
       "        vertical-align: top;\n",
       "    }\n",
       "\n",
       "    .dataframe thead th {\n",
       "        text-align: right;\n",
       "    }\n",
       "</style>\n",
       "<table border=\"1\" class=\"dataframe\">\n",
       "  <thead>\n",
       "    <tr style=\"text-align: right;\">\n",
       "      <th></th>\n",
       "      <th>email</th>\n",
       "      <th>first</th>\n",
       "      <th>last</th>\n",
       "    </tr>\n",
       "  </thead>\n",
       "  <tbody>\n",
       "    <tr>\n",
       "      <th>0</th>\n",
       "      <td>CoreyMSchafer@gmail.com</td>\n",
       "      <td>Corey</td>\n",
       "      <td>Schafer</td>\n",
       "    </tr>\n",
       "    <tr>\n",
       "      <th>1</th>\n",
       "      <td>JaneDoe@gmail.com</td>\n",
       "      <td>Jane</td>\n",
       "      <td>Doe</td>\n",
       "    </tr>\n",
       "    <tr>\n",
       "      <th>2</th>\n",
       "      <td>JohnDoe@gmail.com</td>\n",
       "      <td>John</td>\n",
       "      <td>Doe</td>\n",
       "    </tr>\n",
       "  </tbody>\n",
       "</table>\n",
       "</div>"
      ],
      "text/plain": [
       "                     email  first     last\n",
       "0  CoreyMSchafer@gmail.com  Corey  Schafer\n",
       "1        JaneDoe@gmail.com   Jane      Doe\n",
       "2        JohnDoe@gmail.com   John      Doe"
      ]
     },
     "execution_count": 17,
     "metadata": {},
     "output_type": "execute_result"
    }
   ],
   "source": [
    "df.reset_index(inplace=True)\n",
    "df"
   ]
  },
  {
   "cell_type": "code",
   "execution_count": null,
   "id": "a7c73198-28ed-4300-a14d-6199055cfea4",
   "metadata": {},
   "outputs": [],
   "source": []
  }
 ],
 "metadata": {
  "kernelspec": {
   "display_name": "Python 3 (ipykernel)",
   "language": "python",
   "name": "python3"
  },
  "language_info": {
   "codemirror_mode": {
    "name": "ipython",
    "version": 3
   },
   "file_extension": ".py",
   "mimetype": "text/x-python",
   "name": "python",
   "nbconvert_exporter": "python",
   "pygments_lexer": "ipython3",
   "version": "3.11.7"
  },
  "widgets": {
   "application/vnd.jupyter.widget-state+json": {
    "state": {},
    "version_major": 2,
    "version_minor": 0
   }
  }
 },
 "nbformat": 4,
 "nbformat_minor": 5
}
